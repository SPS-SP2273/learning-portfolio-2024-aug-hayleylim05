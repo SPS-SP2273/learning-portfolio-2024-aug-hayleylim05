{
 "cells": [
  {
   "attachments": {},
   "cell_type": "markdown",
   "id": "123456",
   "metadata": {},
   "source": [
    "<div style=\"text-align:left;font-size:2em\"><span style=\"font-weight:bolder;font-size:1.25em\">SP2273 | Learning Portfolio</span><br><br><span style=\"font-weight:bold;color:darkred\">Loops (Need) Exercises</span></div>"
   ]
  },
  {
   "cell_type": "markdown",
   "id": "e02173d2-a74c-47e3-bf4f-1c8f11d34de5",
   "metadata": {},
   "source": [
    "### Exercise 1 ###"
   ]
  },
  {
   "cell_type": "code",
   "execution_count": 13,
   "id": "d2590ef6-70a1-47b6-a32f-dab4f6d261de",
   "metadata": {},
   "outputs": [
    {
     "name": "stdout",
     "output_type": "stream",
     "text": [
      "Temperature in Celcius = 0, Temperature in Fahrenheit is 32.0\n",
      "Temperature in Celcius = 5, Temperature in Fahrenheit is 41.0\n",
      "Temperature in Celcius = 10, Temperature in Fahrenheit is 50.0\n",
      "Temperature in Celcius = 15, Temperature in Fahrenheit is 59.0\n",
      "Temperature in Celcius = 20, Temperature in Fahrenheit is 68.0\n",
      "Temperature in Celcius = 25, Temperature in Fahrenheit is 77.0\n",
      "Temperature in Celcius = 30, Temperature in Fahrenheit is 86.0\n",
      "Temperature in Celcius = 35, Temperature in Fahrenheit is 95.0\n",
      "Temperature in Celcius = 40, Temperature in Fahrenheit is 104.0\n",
      "Temperature in Celcius = 45, Temperature in Fahrenheit is 113.0\n",
      "Temperature in Celcius = 50, Temperature in Fahrenheit is 122.0\n"
     ]
    }
   ],
   "source": [
    "temperatures_celsius = [\n",
    "    0, 5, 10, 15, 20, 25,\n",
    "    30, 35, 40, 45, 50\n",
    "]\n",
    "\n",
    "temp_f = []\n",
    "\n",
    "for temp in temperatures_celsius:\n",
    "    x = temp*9/5+32\n",
    "    temp_f.append(x)\n",
    "\n",
    "for fahrenheit, celcius in enumerate(temperatures_celsius):\n",
    "    temp_fahrenheit = temp_f[fahrenheit]\n",
    "    print(f'Temperature in Celcius = {celcius}, Temperature in Fahrenheit is {temp_fahrenheit}')"
   ]
  },
  {
   "cell_type": "markdown",
   "id": "770430c0-05a6-400a-b479-20870cd43f2c",
   "metadata": {},
   "source": [
    "### Exercise 2 ###"
   ]
  },
  {
   "cell_type": "code",
   "execution_count": 66,
   "id": "c37641f0-f0fa-4ea0-ad72-b0986504ccee",
   "metadata": {
    "scrolled": true
   },
   "outputs": [
    {
     "name": "stdout",
     "output_type": "stream",
     "text": [
      "1:1\t2\t3\t4\t5\t\n",
      "\n",
      "2:2\t4\t6\t8\t10\t\n",
      "\n",
      "3:3\t6\t9\t12\t15\t\n",
      "\n",
      "4:4\t8\t12\t16\t20\t\n",
      "\n",
      "5:5\t10\t15\t20\t25\t\n",
      "\n"
     ]
    }
   ],
   "source": [
    "numbers = [1,2,3,4,5]\n",
    "\n",
    "for count, number in enumerate(numbers, 1):\n",
    "    print(f'{count}',end=':')\n",
    "    for x in numbers:\n",
    "        print(f'{x*number}', end='\\t')\n",
    "    print('\\n')\n",
    "\n",
    "# Im not really sure how to put the count in front of the rows"
   ]
  },
  {
   "cell_type": "markdown",
   "id": "f2bbd297-6180-4573-997a-f1942b2c5ccb",
   "metadata": {},
   "source": [
    "### Exercise 3 ###"
   ]
  },
  {
   "cell_type": "code",
   "execution_count": 63,
   "id": "99481542-e308-41bd-b86b-8ebd838af0fb",
   "metadata": {},
   "outputs": [
    {
     "name": "stdout",
     "output_type": "stream",
     "text": [
      "Experiment 1: No. of Heads = 4\n",
      "Experiment 2: No. of Heads = 7\n",
      "Experiment 3: No. of Heads = 5\n",
      "Experiment 4: No. of Heads = 4\n",
      "Experiment 5: No. of Heads = 8\n",
      "Experiment 6: No. of Heads = 7\n",
      "Experiment 7: No. of Heads = 6\n",
      "Experiment 8: No. of Heads = 1\n",
      "Experiment 9: No. of Heads = 4\n",
      "Experiment 10: No. of Heads = 6\n"
     ]
    }
   ],
   "source": [
    "import numpy as np\n",
    "\n",
    "number = 1\n",
    "\n",
    "while number < 11:\n",
    "    coin = np.random.rand(10)\n",
    "    heads = []\n",
    "    for count, c in enumerate(coin):\n",
    "        if c > 0.5:\n",
    "            heads.append(c)\n",
    "    print('Experiment', f'{number}:', 'No. of Heads =', len(heads))\n",
    "    number += 1\n"
   ]
  }
 ],
 "metadata": {
  "kernelspec": {
   "display_name": "Python 3 (ipykernel)",
   "language": "python",
   "name": "python3"
  },
  "language_info": {
   "codemirror_mode": {
    "name": "ipython",
    "version": 3
   },
   "file_extension": ".py",
   "mimetype": "text/x-python",
   "name": "python",
   "nbconvert_exporter": "python",
   "pygments_lexer": "ipython3",
   "version": "3.9.19"
  },
  "toc": {
   "base_numbering": 1,
   "nav_menu": {},
   "number_sections": true,
   "sideBar": true,
   "skip_h1_title": false,
   "title_cell": "Table of Contents",
   "title_sidebar": "Contents",
   "toc_cell": false,
   "toc_position": {},
   "toc_section_display": true,
   "toc_window_display": false
  },
  "vscode": {
   "interpreter": {
    "hash": "31f2aee4e71d21fbe5cf8b01ff0e069b9275f58929596ceb00d14d90e3e16cd6"
   }
  }
 },
 "nbformat": 4,
 "nbformat_minor": 5
}
