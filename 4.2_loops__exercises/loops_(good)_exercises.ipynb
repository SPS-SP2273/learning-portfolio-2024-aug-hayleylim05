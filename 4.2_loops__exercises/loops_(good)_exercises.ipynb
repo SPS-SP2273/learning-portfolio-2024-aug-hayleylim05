{
 "cells": [
  {
   "cell_type": "markdown",
   "id": "123456",
   "metadata": {},
   "source": [
    "<div style=\"text-align:left;font-size:2em\"><span style=\"font-weight:bolder;font-size:1.25em\">SP2273 | Learning Portfolio</span><br><br><span style=\"font-weight:bold;color:darkred\">Loops (Good) Exercises</span></div>"
   ]
  },
  {
   "cell_type": "markdown",
   "id": "ad6b2832-efa2-4d91-8fe6-15c427fbd617",
   "metadata": {},
   "source": [
    "### Exercise 1 ###"
   ]
  },
  {
   "cell_type": "code",
   "execution_count": 8,
   "id": "34b9a554-0a50-451b-803f-c5eafb2e31dd",
   "metadata": {},
   "outputs": [
    {
     "data": {
      "text/plain": [
       "[1, 9, 25, 49, 81]"
      ]
     },
     "execution_count": 8,
     "metadata": {},
     "output_type": "execute_result"
    }
   ],
   "source": [
    "numbers = [number for number in range(10) ]\n",
    "odd_squares = []\n",
    "\n",
    "for n in numbers:\n",
    "    if n % 2 == 0:\n",
    "        continue\n",
    "    odd_squares.append(n**2)\n",
    "\n",
    "\n",
    "odd_squares"
   ]
  },
  {
   "cell_type": "markdown",
   "id": "e5fbe28b-5e84-4bb4-860f-9246a2e33efe",
   "metadata": {},
   "source": [
    "### Exercise 2 ###"
   ]
  },
  {
   "cell_type": "code",
   "execution_count": 18,
   "id": "eca67b20-02b3-4224-91d3-a8d177b06e05",
   "metadata": {},
   "outputs": [
    {
     "data": {
      "text/plain": [
       "[1, 9, 25, 49, 81]"
      ]
     },
     "execution_count": 18,
     "metadata": {},
     "output_type": "execute_result"
    }
   ],
   "source": [
    "numbers = [number for number in range(10) if number % 2 == 1]\n",
    "odd_squares = []\n",
    "\n",
    "for n in numbers:\n",
    "    odd_squares.append(n**2)\n",
    "\n",
    "\n",
    "odd_squares\n",
    "\n"
   ]
  },
  {
   "cell_type": "markdown",
   "id": "2e43d6c8-d946-4f1a-8b85-5a440c0b528e",
   "metadata": {},
   "source": [
    "### Exercise 3 ###"
   ]
  },
  {
   "cell_type": "code",
   "execution_count": 16,
   "id": "fc16c1e5-c4c8-443a-a655-b2d583f6f1d1",
   "metadata": {},
   "outputs": [
    {
     "name": "stdout",
     "output_type": "stream",
     "text": [
      "1.82 µs ± 44.7 ns per loop (mean ± std. dev. of 7 runs, 100,000 loops each)\n"
     ]
    }
   ],
   "source": [
    "\n",
    "%%timeit\n",
    "\n",
    "numbers = [number for number in range(10) ]\n",
    "odd_squares = []\n",
    "\n",
    "for n in numbers:\n",
    "    if n % 2 == 0:\n",
    "        continue\n",
    "    odd_squares.append(n**2)"
   ]
  },
  {
   "cell_type": "code",
   "execution_count": 17,
   "id": "298950fa-6a6d-4ec7-93a8-a8b6f24ad5d7",
   "metadata": {},
   "outputs": [
    {
     "name": "stdout",
     "output_type": "stream",
     "text": [
      "1.72 µs ± 108 ns per loop (mean ± std. dev. of 7 runs, 1,000,000 loops each)\n"
     ]
    }
   ],
   "source": [
    "%%timeit\n",
    "\n",
    "numbers = [number for number in range(10) if number % 2 == 1]\n",
    "odd_squares = []\n",
    "\n",
    "for n in numbers:\n",
    "    odd_squares.append(n**2)\n",
    "\n",
    "\n",
    "odd_squares"
   ]
  },
  {
   "cell_type": "markdown",
   "id": "10f7fd0a-b805-45b7-abfe-7d413b6aa562",
   "metadata": {},
   "source": [
    "The code in exercise 2 is faster"
   ]
  },
  {
   "cell_type": "markdown",
   "id": "9034d5f5-6366-4cfe-99a9-ba1c2383a1d3",
   "metadata": {},
   "source": [
    "### Exercise 4 ###"
   ]
  },
  {
   "cell_type": "code",
   "execution_count": 1,
   "id": "a7b5d497-41b0-4120-8205-4b0c2e9406dd",
   "metadata": {},
   "outputs": [
    {
     "name": "stdout",
     "output_type": "stream",
     "text": [
      "Number of years for the sample to reduce to about half its original amount: 14\n"
     ]
    }
   ],
   "source": [
    "number=100\n",
    "years = []\n",
    "\n",
    "while True:\n",
    "    years.append(number)\n",
    "    number *= 95/100\n",
    "    if number < 50: break\n",
    "\n",
    "print('Number of years for the sample to reduce to about half its original amount:', len(years))\n"
   ]
  },
  {
   "cell_type": "markdown",
   "id": "eec58614-665e-4945-a4b7-e71f55760f05",
   "metadata": {},
   "source": [
    "### Exercise 5 ###"
   ]
  },
  {
   "cell_type": "code",
   "execution_count": 66,
   "id": "0ef5737a-90ca-4a83-a20b-c13a5cc42ded",
   "metadata": {},
   "outputs": [
    {
     "name": "stdout",
     "output_type": "stream",
     "text": [
      "The years that showed an increase of CO2 of 3ppm is from 2015 to 2016\n",
      "The difference is 3.410000000000025\n"
     ]
    }
   ],
   "source": [
    "co2_data = [\n",
    "    (2000, 369.55), (2001, 371.14), (2002, 373.28), \n",
    "    (2003, 375.80), (2004, 377.52), (2005, 379.80), \n",
    "    (2006, 381.90), (2007, 383.79), (2008, 385.60), \n",
    "    (2009, 387.43), (2010, 389.90), (2011, 391.65), \n",
    "    (2012, 393.85), (2013, 396.52), (2014, 398.65),\n",
    "    (2015, 400.83), (2016, 404.24), (2017, 406.55), \n",
    "    (2018, 408.52), (2019, 411.44), (2020, 414.24)\n",
    "]\n",
    "\n",
    "numbers = [number for number in range(20)]\n",
    "index = []\n",
    "\n",
    "\n",
    "for n in numbers:\n",
    "    x = co2_data[n+1][1]-co2_data[n][1]\n",
    "    if x > 3:\n",
    "        index.append(n+1)\n",
    "\n",
    "for i in index:\n",
    "    print(\"The years that showed an increase of CO2 of 3ppm is from\", co2_data[i-1][0],\"to\", co2_data[i][0])\n",
    "    print(\"The difference is\", co2_data[i][1] - co2_data[i-1][1])\n",
    "\n"
   ]
  }
 ],
 "metadata": {
  "kernelspec": {
   "display_name": "Python 3 (ipykernel)",
   "language": "python",
   "name": "python3"
  },
  "language_info": {
   "codemirror_mode": {
    "name": "ipython",
    "version": 3
   },
   "file_extension": ".py",
   "mimetype": "text/x-python",
   "name": "python",
   "nbconvert_exporter": "python",
   "pygments_lexer": "ipython3",
   "version": "3.9.12"
  },
  "toc": {
   "base_numbering": 1,
   "nav_menu": {},
   "number_sections": true,
   "sideBar": true,
   "skip_h1_title": false,
   "title_cell": "Table of Contents",
   "title_sidebar": "Contents",
   "toc_cell": false,
   "toc_position": {},
   "toc_section_display": true,
   "toc_window_display": false
  },
  "vscode": {
   "interpreter": {
    "hash": "31f2aee4e71d21fbe5cf8b01ff0e069b9275f58929596ceb00d14d90e3e16cd6"
   }
  }
 },
 "nbformat": 4,
 "nbformat_minor": 5
}
