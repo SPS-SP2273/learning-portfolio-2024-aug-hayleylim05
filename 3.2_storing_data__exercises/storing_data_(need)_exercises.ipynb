{
 "cells": [
  {
   "cell_type": "markdown",
   "id": "123456",
   "metadata": {},
   "source": [
    "<div style=\"text-align:left;font-size:2em\"><span style=\"font-weight:bolder;font-size:1.25em\">SP2273 | Learning Portfolio</span><br><br><span style=\"font-weight:bold;color:darkred\">Storing Data (Need) Exercises</span></div>"
   ]
  },
  {
   "cell_type": "markdown",
   "id": "6f8f5c93-fd90-4192-beec-26a43fb104b6",
   "metadata": {},
   "source": [
    "### Exercise 1 ###\n",
    "\n",
    "Similarity bewteen lists and arrays:\n",
    "1. Both are structures used to store and manipulate data\n",
    "2. In both, the data is easily accessible using indexes\n",
    "\n",
    "Differences between lists and arrays:\n",
    "1. Arrays requires the numpy package while lists do not\n",
    "2. A numerical value can be added to every value inside an array using the command `+ number` while this cannot be done for lists\n",
    "\n",
    "A dictionary is a database that pairs data with a key, allowing us to easily access the data by entering the key"
   ]
  },
  {
   "cell_type": "markdown",
   "id": "8ba644ea-eecf-491e-a793-73e341fb58f3",
   "metadata": {},
   "source": [
    "### Exercise 2 ###"
   ]
  },
  {
   "cell_type": "code",
   "execution_count": 87,
   "id": "01e07289-f244-4b01-8a96-35303ca07b61",
   "metadata": {},
   "outputs": [
    {
     "name": "stdout",
     "output_type": "stream",
     "text": [
      "a1\n",
      "c3\n",
      "e5\n",
      "g7\n",
      "i9\n"
     ]
    }
   ],
   "source": [
    "py_list = [\"a1\", \"b2\", \"c3\", \"d4\", \"e5\", \"f6\", \"g7\", \"h8\", \"i9\", \"j10\"]\n",
    "print(py_list[0])   # Prints 'a1'\n",
    "print(py_list[2])   # Prints 'c3'\n",
    "print(py_list[4])   # Prints 'e5'\n",
    "print(py_list[6])   # Prints 'g7'\n",
    "print(py_list[8])   # Prints 'i9'\n"
   ]
  },
  {
   "cell_type": "markdown",
   "id": "a6c08696-6620-4255-b510-cbcb51c684aa",
   "metadata": {},
   "source": [
    "### Exercise 3 ###"
   ]
  },
  {
   "cell_type": "code",
   "execution_count": 80,
   "id": "045f34b7-b6ab-4c20-95f8-7dda7519049c",
   "metadata": {},
   "outputs": [
    {
     "name": "stdout",
     "output_type": "stream",
     "text": [
      "Boron\n",
      "Boron\n"
     ]
    }
   ],
   "source": [
    "elements = ['Hydrogen',\n",
    "            'Helium', 'Lithium',\n",
    "            'Beryllium', 'Boron', 'Carbon',\n",
    "            'Nitrogen', 'Oxygen',\n",
    "            'Fluorine',\n",
    "            'Neon']\n",
    "\n",
    "print(elements[4])\n",
    "print(elements[-6])"
   ]
  },
  {
   "cell_type": "markdown",
   "id": "7212a4cb-a549-4162-98e8-532c1f11e860",
   "metadata": {},
   "source": [
    "### Exercise 4 ###"
   ]
  },
  {
   "cell_type": "code",
   "execution_count": 81,
   "id": "05a57858-372f-414b-9708-01214c2e8759",
   "metadata": {},
   "outputs": [
    {
     "data": {
      "text/plain": [
       "np.int64(9)"
      ]
     },
     "execution_count": 81,
     "metadata": {},
     "output_type": "execute_result"
    }
   ],
   "source": [
    "import numpy as np\n",
    "numbers=[45, 60, 1, 30, 96, 1, 96, 57, 16, 1,\n",
    "        99, 62, 86, 43, 42, 60, 59, 1, 1, 35,\n",
    "        83, 47, 34, 28, 68, 23, 22, 92, 1, 79,\n",
    "        1, 29, 94, 72, 46, 47, 1, 74, 32, 20,\n",
    "        8, 37, 35, 1, 89, 29, 86, 19, 43, 61]  \n",
    "np_numbers = np.array(numbers)\n",
    "np_one = np_numbers == 1\n",
    "sum(np_one) # sum of all the 1s = number of 1s\n"
   ]
  },
  {
   "cell_type": "markdown",
   "id": "bcbcd78b-bd7f-4e5b-ba15-c677f91ca428",
   "metadata": {},
   "source": [
    "### Exercise 5 ###"
   ]
  },
  {
   "cell_type": "code",
   "execution_count": 9,
   "id": "01a78ffd-56df-4e9e-9e0c-64da92ef960d",
   "metadata": {},
   "outputs": [],
   "source": [
    "import numpy as np"
   ]
  },
  {
   "cell_type": "code",
   "execution_count": 42,
   "id": "f69fe9d0-ed3e-4f4a-a13d-3e7ab26f98b0",
   "metadata": {},
   "outputs": [
    {
     "name": "stdout",
     "output_type": "stream",
     "text": [
      "Mean of x1 = 38.5\n",
      "Mean of x2 = 302.5\n",
      "Standard deviation of x1 = 32.41990129534635\n",
      "Standard deviation of x2 = 326.0893282522444\n"
     ]
    }
   ],
   "source": [
    "x_1 = [1, 4, 9, 16, 25, 36, 49, 64, 81, 100]\n",
    "x_2 = [1, 8, 27, 64, 125, 216, 343, 512, 729, 1000]\n",
    "\n",
    "np_array1 = np.array(x_1)\n",
    "np_array2 = np.array(x_2)\n",
    "\n",
    "mean_x1 = np.mean(np_array1)\n",
    "mean_x2 = np.mean(np_array2)\n",
    "std_x1 = np.std(np_array1)\n",
    "std_x2 = np.std(np_array2)\n",
    "\n",
    "print('Mean of x1 =' , mean_x1)\n",
    "print('Mean of x2 =' , mean_x2)\n",
    "print('Standard deviation of x1 =' , std_x1)\n",
    "print('Standard deviation of x2 =' , std_x2)\n",
    "\n",
    "\n",
    "\n"
   ]
  },
  {
   "cell_type": "code",
   "execution_count": 21,
   "id": "c737b3bf-ea38-4f76-9980-1dc4639b511e",
   "metadata": {},
   "outputs": [],
   "source": [
    "import math as math"
   ]
  },
  {
   "cell_type": "code",
   "execution_count": 63,
   "id": "997867b2-aa17-4664-a548-3afab470cb33",
   "metadata": {},
   "outputs": [
    {
     "name": "stdout",
     "output_type": "stream",
     "text": [
      "r = 0.9871796626270701\n",
      "[[1.         0.98717966]\n",
      " [0.98717966 1.        ]]\n"
     ]
    }
   ],
   "source": [
    "a = np.sum((np_array1 - mean_x1)*(np_array2 - mean_x2))\n",
    "b = np.sqrt((np.sum((np_array1 - mean_x1)**2))*(np.sum((np_array2 - mean_x2)**2)))\n",
    "\n",
    "print('r =',a/b)\n",
    "print(np.corrcoef(np_array1, np_array2))"
   ]
  }
 ],
 "metadata": {
  "kernelspec": {
   "display_name": "Python 3 (ipykernel)",
   "language": "python",
   "name": "python3"
  },
  "language_info": {
   "codemirror_mode": {
    "name": "ipython",
    "version": 3
   },
   "file_extension": ".py",
   "mimetype": "text/x-python",
   "name": "python",
   "nbconvert_exporter": "python",
   "pygments_lexer": "ipython3",
   "version": "3.9.12"
  },
  "toc": {
   "base_numbering": 1,
   "nav_menu": {},
   "number_sections": true,
   "sideBar": true,
   "skip_h1_title": false,
   "title_cell": "Table of Contents",
   "title_sidebar": "Contents",
   "toc_cell": false,
   "toc_position": {},
   "toc_section_display": true,
   "toc_window_display": false
  },
  "vscode": {
   "interpreter": {
    "hash": "31f2aee4e71d21fbe5cf8b01ff0e069b9275f58929596ceb00d14d90e3e16cd6"
   }
  }
 },
 "nbformat": 4,
 "nbformat_minor": 5
}
