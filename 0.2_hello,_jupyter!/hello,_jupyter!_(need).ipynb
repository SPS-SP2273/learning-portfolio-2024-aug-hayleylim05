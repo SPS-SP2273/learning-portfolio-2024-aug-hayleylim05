{
 "cells": [
  {
   "cell_type": "markdown",
   "id": "123456",
   "metadata": {},
   "source": [
    "<div style=\"text-align:left;font-size:2em\"><span style=\"font-weight:bolder;font-size:1.25em\">SP2273 | Learning Portfolio</span><br><br><span style=\"font-weight:bold;color:darkred\">Hello, Jupyter! (Need)</span></div>"
   ]
  },
  {
   "cell_type": "markdown",
   "id": "a46e82e3",
   "metadata": {},
   "source": [
    "# 1 Jupyter, who?\n",
    "\n"
   ]
  },
  {
   "cell_type": "markdown",
   "id": "02e20172",
   "metadata": {},
   "source": [
    "# 2 Anaconda & Miniconda"
   ]
  },
  {
   "cell_type": "markdown",
   "id": "d3890a97",
   "metadata": {},
   "source": [
    "## 2.1 Download & install Miniconda"
   ]
  },
  {
   "cell_type": "markdown",
   "id": "c5e453c6",
   "metadata": {},
   "source": [
    "# 3 Hello Command prompt"
   ]
  },
  {
   "cell_type": "markdown",
   "id": "7d6b2cac",
   "metadata": {},
   "source": [
    "## 3.1 What is the command prompt"
   ]
  },
  {
   "cell_type": "markdown",
   "id": "814fab48",
   "metadata": {},
   "source": [
    "## 3.2 Opening the prompt"
   ]
  },
  {
   "cell_type": "markdown",
   "id": "49a03801",
   "metadata": {},
   "source": [
    "## 3.3 Navigate using the prompt"
   ]
  },
  {
   "cell_type": "markdown",
   "id": "60190f3f",
   "metadata": {},
   "source": [
    "## 3.4 Using the prompt with conda"
   ]
  },
  {
   "cell_type": "markdown",
   "id": "479c5b35",
   "metadata": {},
   "source": [
    "# 4 Installing Jupyter and other stuff"
   ]
  },
  {
   "cell_type": "markdown",
   "id": "0c5bacfa",
   "metadata": {},
   "source": [
    "## 4.1 Jupyter… the first run"
   ]
  },
  {
   "cell_type": "markdown",
   "id": "1b26e543",
   "metadata": {},
   "source": [
    "## Footnotes"
   ]
  }
 ],
 "metadata": {
  "kernelspec": {
   "display_name": "Python 3 (ipykernel)",
   "language": "python",
   "name": "python3"
  },
  "language_info": {
   "codemirror_mode": {
    "name": "ipython",
    "version": 3
   },
   "file_extension": ".py",
   "mimetype": "text/x-python",
   "name": "python",
   "nbconvert_exporter": "python",
   "pygments_lexer": "ipython3",
   "version": "3.9.12"
  },
  "toc": {
   "base_numbering": 1,
   "nav_menu": {},
   "number_sections": true,
   "sideBar": true,
   "skip_h1_title": false,
   "title_cell": "Table of Contents",
   "title_sidebar": "Contents",
   "toc_cell": false,
   "toc_position": {},
   "toc_section_display": true,
   "toc_window_display": false
  },
  "vscode": {
   "interpreter": {
    "hash": "31f2aee4e71d21fbe5cf8b01ff0e069b9275f58929596ceb00d14d90e3e16cd6"
   }
  }
 },
 "nbformat": 4,
 "nbformat_minor": 5
}
