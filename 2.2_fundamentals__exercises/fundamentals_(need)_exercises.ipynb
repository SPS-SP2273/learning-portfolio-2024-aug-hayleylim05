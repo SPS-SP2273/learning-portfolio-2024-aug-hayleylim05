{
 "cells": [
  {
   "attachments": {},
   "cell_type": "markdown",
   "id": "123456",
   "metadata": {},
   "source": [
    "<div style=\"text-align:left;font-size:2em\"><span style=\"font-weight:bolder;font-size:1.25em\">SP2273 | Learning Portfolio</span><br><br><span style=\"font-weight:bold;color:darkred\">Fundamentals (Need) Exercises</span></div>"
   ]
  },
  {
   "cell_type": "markdown",
   "id": "eb1ed0ad-2421-4164-8939-cd8ae4b387bf",
   "metadata": {},
   "source": [
    "### Exercise 1 ###\n",
    "\n",
    "1. Functions is a thing that does a specific task. For example, the `print()` function takes the words put inside the brackets and prints it to the svreen. \"()\" always follows a function.\n",
    "\n",
    "2. _Python is interpreted one line at a time, starting from the top._\n",
    "\n",
    "3. Python is sensitive. Have to be careful with how we type our commands. Python will not accept a capital lettered word if it is supposed to be lower case.\n",
    "\n",
    "4. Add `#`' to write comments. Comments is used to write the purpose of the code\n",
    "\n",
    "5. _`=` is not the same as `==`. `=` is used to set something equal while `==` is used to check if something is equal_\n",
    "\n",
    "6. `if` is used to make decisions. It performs the argument that if something is something, an action, which is to be determined by the coder, will happen. If not, something else will happen.\n",
    "\n",
    "7. Be careful with indentations. Indentations are only used for True and False blocks, cannot anyhow use \n",
    "\n",
    "8. There is a difference between english and variable. To print an english word, we need to include open and close inverted commans \"\", without it, we are printing the variable instead.\n",
    "\n",
    "9. Different kinds of brackets: `()` is for math and function, `[]` is for lists and `{}` is for a dictionary.\n",
    "\n",
    "10. Python can do math. We have to either start the line with `math` or `np`, then we add a dot, and type out the function to carry out the math equation\n",
    "_We need to first import the math or numpy package_\n",
    "\n",
    "11. _A dot `.` is used to indicate ownership_"
   ]
  },
  {
   "cell_type": "markdown",
   "id": "f5489a9d-3a66-473f-9a6b-dc9cb02c2f97",
   "metadata": {},
   "source": [
    "### Exercise 2 ###"
   ]
  },
  {
   "cell_type": "code",
   "execution_count": 1,
   "id": "b1cfc855-bdbe-4e4c-98f2-b14eb6365e92",
   "metadata": {},
   "outputs": [
    {
     "name": "stdout",
     "output_type": "stream",
     "text": [
      "3 4 5.0\n"
     ]
    }
   ],
   "source": [
    "import math \n",
    "x, y = 3, 4\n",
    "z = math.sqrt(x**2 + y**2)\n",
    "print(x, y, z)"
   ]
  },
  {
   "cell_type": "markdown",
   "id": "7b4311f9-c586-4652-a89f-0f94216e1266",
   "metadata": {},
   "source": [
    "### Exercise 3 ###\n",
    "\n",
    "| #    |  Term   | Description |\n",
    "| :--- | :--: | ---: |\n",
    "| 1   |  Function  |   A function is a single piece of code that can accomplish a task by taking in parameters and producing a result |\n",
    "| 2   |  Arguments  |   Arguments are put inside the parenthesis after a function and it is the real concrete value passed to the function to execute |\n",
    "| 3   |  Comments  |   Comments are lines used to describe the code that was written |\n",
    "| 4   |  Indentations  |   Indentations organises and groups a block of code together to fall under a specific statement |\n",
    "| 5   |  Packages  |   Packages are external tools that we can import to carry out extra functions |\n",
    "| 6   |  .  |   The dot is used when the function belong to a specific imported package -- it is used between the package name and function to indicate that the function belong to that package  |\n",
    "| 7   |  :  |   It is used to assign a value / word to a variable or also used to assign specific actions in a statement|\n",
    "| 8   |  []  |   It is used to write a 1 dimensional list, which it is a single row of values |\n",
    "| 9   |  [[],[]]  |   It is used to write a 2 dimensional list, which is a grid of values that has rows and columns |\n",
    "| 10   |  {}  |   It is used to write a dictionary which is a database of different values assigned to different variables |"
   ]
  },
  {
   "cell_type": "markdown",
   "id": "ef604c38-7423-4aa6-91b4-0aa8ae37d187",
   "metadata": {},
   "source": [
    "### Exercise 4 ###"
   ]
  },
  {
   "cell_type": "code",
   "execution_count": 13,
   "id": "aa301c8c-22ad-41db-8f11-40272f886c26",
   "metadata": {},
   "outputs": [
    {
     "data": {
      "text/plain": [
       "3.0"
      ]
     },
     "execution_count": 13,
     "metadata": {},
     "output_type": "execute_result"
    }
   ],
   "source": [
    "6/2           # This divides the first number with the second and states the result in a float data type which includes decimal points"
   ]
  },
  {
   "cell_type": "code",
   "execution_count": 8,
   "id": "f7648f28-0d4a-4655-aac5-28197defd131",
   "metadata": {},
   "outputs": [
    {
     "data": {
      "text/plain": [
       "4"
      ]
     },
     "execution_count": 8,
     "metadata": {},
     "output_type": "execute_result"
    }
   ],
   "source": [
    "9//2          # This rounds the result of the division between the first and second number to the nearest whole number that is less than or equal to the actual value"
   ]
  },
  {
   "cell_type": "code",
   "execution_count": 12,
   "id": "b61a0aab-0b9e-4d4d-b0b6-c274e68841b2",
   "metadata": {},
   "outputs": [
    {
     "data": {
      "text/plain": [
       "1"
      ]
     },
     "execution_count": 12,
     "metadata": {},
     "output_type": "execute_result"
    }
   ],
   "source": [
    "9%2           # This states the remainder after dividing the first number with the second"
   ]
  },
  {
   "cell_type": "code",
   "execution_count": null,
   "id": "7eb74027-d9d4-4e44-95ca-033b5325fcde",
   "metadata": {},
   "outputs": [],
   "source": []
  }
 ],
 "metadata": {
  "kernelspec": {
   "display_name": "Python 3 (ipykernel)",
   "language": "python",
   "name": "python3"
  },
  "language_info": {
   "codemirror_mode": {
    "name": "ipython",
    "version": 3
   },
   "file_extension": ".py",
   "mimetype": "text/x-python",
   "name": "python",
   "nbconvert_exporter": "python",
   "pygments_lexer": "ipython3",
   "version": "3.9.19"
  },
  "toc": {
   "base_numbering": 1,
   "nav_menu": {},
   "number_sections": true,
   "sideBar": true,
   "skip_h1_title": false,
   "title_cell": "Table of Contents",
   "title_sidebar": "Contents",
   "toc_cell": false,
   "toc_position": {},
   "toc_section_display": true,
   "toc_window_display": false
  },
  "vscode": {
   "interpreter": {
    "hash": "31f2aee4e71d21fbe5cf8b01ff0e069b9275f58929596ceb00d14d90e3e16cd6"
   }
  }
 },
 "nbformat": 4,
 "nbformat_minor": 5
}
