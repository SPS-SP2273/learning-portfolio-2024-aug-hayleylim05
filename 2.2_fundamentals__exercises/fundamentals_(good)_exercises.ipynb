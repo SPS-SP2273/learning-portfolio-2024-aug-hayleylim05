{
 "cells": [
  {
   "attachments": {},
   "cell_type": "markdown",
   "id": "123456",
   "metadata": {},
   "source": [
    "<div style=\"text-align:left;font-size:2em\"><span style=\"font-weight:bolder;font-size:1.25em\">SP2273 | Learning Portfolio</span><br><br><span style=\"font-weight:bold;color:darkred\">Fundamentals (Good) Exercises</span></div>"
   ]
  },
  {
   "cell_type": "markdown",
   "id": "501115c6-36a2-4535-aea7-2ee086901b7a",
   "metadata": {},
   "source": [
    "## Exercise 1 ##"
   ]
  },
  {
   "cell_type": "markdown",
   "id": "68890a79-cb3c-4a8a-a67d-6e1eb316a317",
   "metadata": {},
   "source": [
    "### Task 1 ###"
   ]
  },
  {
   "cell_type": "code",
   "execution_count": 4,
   "id": "40a9c107-edd6-44be-8035-574d4f666673",
   "metadata": {},
   "outputs": [
    {
     "name": "stdin",
     "output_type": "stream",
     "text": [
      "Please provide me with your name? John\n"
     ]
    },
    {
     "name": "stdout",
     "output_type": "stream",
     "text": [
      "Your name: John\n",
      "How you doin JOHN!\n"
     ]
    }
   ],
   "source": [
    "user_name = input('Please provide me with your name?')\n",
    "\n",
    "print(f\"How you doin {user_name.upper()}!\") "
   ]
  },
  {
   "cell_type": "markdown",
   "id": "13e83151-8361-4f29-8f36-b65566bb5dd9",
   "metadata": {},
   "source": [
    "### Task 2 ###"
   ]
  },
  {
   "cell_type": "code",
   "execution_count": 6,
   "id": "e71fc9d0-424a-4c91-8e58-240055e82f14",
   "metadata": {},
   "outputs": [
    {
     "name": "stdin",
     "output_type": "stream",
     "text": [
      "Please provide me with your name? John\n",
      "Please provide me with your age? 18\n"
     ]
    },
    {
     "name": "stdout",
     "output_type": "stream",
     "text": [
      "My name is JOHN and I am 18 years old\n"
     ]
    }
   ],
   "source": [
    "user_name = input('Please provide me with your name?')\n",
    "user_age = input('Please provide me with your age?')\n",
    "\n",
    "\n",
    "print(f\"My name is {user_name.upper()} and I am\", user_age, \"years old\") "
   ]
  },
  {
   "cell_type": "markdown",
   "id": "bc866ac7-7a1e-4832-8bde-af086f5e05e4",
   "metadata": {},
   "source": [
    "### Task 3 ###"
   ]
  },
  {
   "cell_type": "code",
   "execution_count": 11,
   "id": "9840f8b4-0305-4a7d-a63d-700ef783a50e",
   "metadata": {},
   "outputs": [
    {
     "name": "stdout",
     "output_type": "stream",
     "text": [
      "The value of pi to 2 decimal places is: 3.14\n",
      "The value of pi to 3 decimal places is: 3.142\n",
      "The value of pi to 4 decimal places is: 3.1416\n"
     ]
    }
   ],
   "source": [
    "pi = 3.141592653589793\n",
    "\n",
    "print(\"The value of pi to 2 decimal places is:\", f'{pi:.2f}')\n",
    "print(\"The value of pi to 3 decimal places is:\", f'{pi:.3f}')\n",
    "print(\"The value of pi to 4 decimal places is:\", f'{pi:.4f}')"
   ]
  },
  {
   "cell_type": "markdown",
   "id": "70f79d07-9d34-41fe-9aaf-df97840dedd6",
   "metadata": {},
   "source": [
    "### Task 4 ###"
   ]
  },
  {
   "cell_type": "code",
   "execution_count": 16,
   "id": "88477378-3a4e-48f8-a798-6cb7003712eb",
   "metadata": {},
   "outputs": [
    {
     "name": "stdout",
     "output_type": "stream",
     "text": [
      "Apple     \t$ 0.99\n",
      "Banana    \t$ 0.59\n",
      "Orange    \t$ 1.29\n"
     ]
    }
   ],
   "source": [
    "print('Apple     \\t$ 0.99\\nBanana    \\t$ 0.59\\nOrange    \\t$ 1.29')"
   ]
  },
  {
   "cell_type": "markdown",
   "id": "e64649ce-beca-459d-acb8-ee62c602c00a",
   "metadata": {},
   "source": [
    "## Exercise 2 ##"
   ]
  },
  {
   "cell_type": "code",
   "execution_count": 15,
   "id": "9e3ed402-b22b-4511-8b9a-998e3d1736e4",
   "metadata": {},
   "outputs": [
    {
     "name": "stdin",
     "output_type": "stream",
     "text": [
      "Please provide me with your score? 35\n"
     ]
    },
    {
     "name": "stdout",
     "output_type": "stream",
     "text": [
      "C\n"
     ]
    }
   ],
   "source": [
    "student_score = input('Please provide me with your score?')\n",
    "\n",
    "x = float(student_score)\n",
    "\n",
    "if 0<=x<=34:\n",
    "    print('Fail')\n",
    "if 35<=x<=49:\n",
    "    print('C')\n",
    "if 50<=x<=69:\n",
    "    print('B')\n",
    "if 70<=x<=100:\n",
    "    print('A')\n",
    "if x<0 or x>100:\n",
    "    print('Please double check your marks and key it in correcrtly. It should be a score betweenn 0-100')\n",
    "\n"
   ]
  },
  {
   "cell_type": "markdown",
   "id": "a544d7a7-7895-4c37-a8e4-287cc59c474d",
   "metadata": {},
   "source": [
    "## Exercise 3 ##"
   ]
  },
  {
   "cell_type": "code",
   "execution_count": 22,
   "id": "c9f03388-4652-421c-b397-de1a16d12b92",
   "metadata": {},
   "outputs": [
    {
     "name": "stdout",
     "output_type": "stream",
     "text": [
      "120\n",
      "Invalid input\n"
     ]
    }
   ],
   "source": [
    "def factorial(n):\n",
    "    if n < 0:\n",
    "        return \"Invalid input\"\n",
    "    if n == 0:\n",
    "        return 1\n",
    "    else:\n",
    "        result = 1\n",
    "        for number in range(1, n+1):\n",
    "            result *= number\n",
    "        return result\n",
    "\n",
    "\n",
    "print(factorial(5))   # Testing, expected output: 120\n",
    "print(factorial(-1))  # Testing, expected output: Invalid input"
   ]
  }
 ],
 "metadata": {
  "kernelspec": {
   "display_name": "Python 3 (ipykernel)",
   "language": "python",
   "name": "python3"
  },
  "language_info": {
   "codemirror_mode": {
    "name": "ipython",
    "version": 3
   },
   "file_extension": ".py",
   "mimetype": "text/x-python",
   "name": "python",
   "nbconvert_exporter": "python",
   "pygments_lexer": "ipython3",
   "version": "3.9.19"
  },
  "toc": {
   "base_numbering": 1,
   "nav_menu": {},
   "number_sections": true,
   "sideBar": true,
   "skip_h1_title": false,
   "title_cell": "Table of Contents",
   "title_sidebar": "Contents",
   "toc_cell": false,
   "toc_position": {},
   "toc_section_display": true,
   "toc_window_display": false
  },
  "vscode": {
   "interpreter": {
    "hash": "31f2aee4e71d21fbe5cf8b01ff0e069b9275f58929596ceb00d14d90e3e16cd6"
   }
  }
 },
 "nbformat": 4,
 "nbformat_minor": 5
}
