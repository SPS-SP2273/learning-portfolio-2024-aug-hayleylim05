{
 "cells": [
  {
   "attachments": {},
   "cell_type": "markdown",
   "id": "123456",
   "metadata": {},
   "source": [
    "<div style=\"text-align:left;font-size:2em\"><span style=\"font-weight:bolder;font-size:1.25em\">SP2273 | Learning Portfolio</span><br><br><span style=\"font-weight:bold;color:darkred\">Functions (Need) Exercises</span></div>"
   ]
  },
  {
   "cell_type": "code",
   "execution_count": 5,
   "id": "f50de4e7-f79f-4842-84d6-545bd127209b",
   "metadata": {},
   "outputs": [
    {
     "data": {
      "text/plain": [
       "'Hello Batman! So, nice to meet you!'"
      ]
     },
     "execution_count": 5,
     "metadata": {},
     "output_type": "execute_result"
    }
   ],
   "source": [
    "def greeting(name):\n",
    "    if name == 'Batman':\n",
    "        return 'Hello Batman! So, nice to meet you!'\n",
    "    else:\n",
    "        return f'Hello {name}!'\n",
    "\n",
    "greeting('Batman')"
   ]
  },
  {
   "cell_type": "markdown",
   "id": "8c7a3cff-8127-4222-8e4f-2432d31c1dd0",
   "metadata": {},
   "source": [
    "### Exercise 1 ###\n",
    "\n",
    "The \"else\" is not needed as there are only two options, the name being \"Batman\" and the name not being \"Batman\", and the result for user giving other alternative names (i.e. not \"Batman\") has already been covered. If the name is not \"Batman\", jupyter notebook will just continue reading to down the lines and return \"Hello (name)!\". Hence, with or without else, the same result will occur. "
   ]
  },
  {
   "cell_type": "markdown",
   "id": "0f21162f-168e-445b-bf91-f6f12f5af163",
   "metadata": {},
   "source": [
    "### Exercise 2 ###"
   ]
  },
  {
   "cell_type": "code",
   "execution_count": 9,
   "id": "83006f4e-b534-431b-9f6f-25b0b7f34806",
   "metadata": {},
   "outputs": [],
   "source": [
    "def calculate_bmi(weight,height):\n",
    "    if weight / (height ** 2) < 18.5:\n",
    "        return 'Underweight'\n",
    "    if 18.5<= weight / (height ** 2) < 25:\n",
    "        return 'Normal Weight'\n",
    "    if 25<= weight / (height ** 2) < 30:\n",
    "        return 'Overweight'\n",
    "    if weight / (height ** 2) >= 30:\n",
    "        return 'Obese'\n"
   ]
  },
  {
   "cell_type": "markdown",
   "id": "ce479a90-1b8f-47c0-8bf0-b7893a01df99",
   "metadata": {},
   "source": [
    "### Exercise 3 ###"
   ]
  },
  {
   "cell_type": "code",
   "execution_count": 27,
   "id": "0a4ee159-9792-4fc2-82e0-1bde6ebbd2d1",
   "metadata": {},
   "outputs": [
    {
     "data": {
      "text/plain": [
       "120"
      ]
     },
     "execution_count": 27,
     "metadata": {},
     "output_type": "execute_result"
    }
   ],
   "source": [
    "import math as math\n",
    "\n",
    "def factorial(n):\n",
    "    if n < 0:\n",
    "        return 'Please input a positive number'\n",
    "    else:\n",
    "        return math.factorial(n)\n",
    "\n",
    "factorial(5)"
   ]
  }
 ],
 "metadata": {
  "kernelspec": {
   "display_name": "Python 3 (ipykernel)",
   "language": "python",
   "name": "python3"
  },
  "language_info": {
   "codemirror_mode": {
    "name": "ipython",
    "version": 3
   },
   "file_extension": ".py",
   "mimetype": "text/x-python",
   "name": "python",
   "nbconvert_exporter": "python",
   "pygments_lexer": "ipython3",
   "version": "3.9.19"
  },
  "toc": {
   "base_numbering": 1,
   "nav_menu": {},
   "number_sections": true,
   "sideBar": true,
   "skip_h1_title": false,
   "title_cell": "Table of Contents",
   "title_sidebar": "Contents",
   "toc_cell": false,
   "toc_position": {},
   "toc_section_display": true,
   "toc_window_display": false
  },
  "vscode": {
   "interpreter": {
    "hash": "31f2aee4e71d21fbe5cf8b01ff0e069b9275f58929596ceb00d14d90e3e16cd6"
   }
  }
 },
 "nbformat": 4,
 "nbformat_minor": 5
}
