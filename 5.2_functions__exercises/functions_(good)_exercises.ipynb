{
 "cells": [
  {
   "attachments": {},
   "cell_type": "markdown",
   "id": "123456",
   "metadata": {},
   "source": [
    "<div style=\"text-align:left;font-size:2em\"><span style=\"font-weight:bolder;font-size:1.25em\">SP2273 | Learning Portfolio</span><br><br><span style=\"font-weight:bold;color:darkred\">Functions (Good) Exercises</span></div>"
   ]
  },
  {
   "cell_type": "markdown",
   "id": "46a90e48-c7c1-4690-b1c3-b18dfd32e06f",
   "metadata": {},
   "source": [
    "### Exercise 1 ###"
   ]
  },
  {
   "cell_type": "code",
   "execution_count": 14,
   "id": "217f6016-cb88-4381-a5c1-0492703a7323",
   "metadata": {},
   "outputs": [
    {
     "data": {
      "text/plain": [
       "122.0"
      ]
     },
     "execution_count": 14,
     "metadata": {},
     "output_type": "execute_result"
    }
   ],
   "source": [
    "\n",
    "def convert_celsius(temperature_celsius, target_scale):\n",
    "    if target_scale == 'Kelvin':\n",
    "        return temperature_celsius+273.15\n",
    "    else:\n",
    "        return temperature_celsius*9/5+32\n",
    "\n",
    "convert_celsius(50, 'Fahrenheit')\n"
   ]
  },
  {
   "cell_type": "markdown",
   "id": "ab051d71-7b94-423d-bfcd-f868645e189c",
   "metadata": {},
   "source": [
    "### Exercise 2 ###"
   ]
  },
  {
   "cell_type": "code",
   "execution_count": 12,
   "id": "b2b232b7-0d1e-413c-b7ba-135c0d9521fd",
   "metadata": {},
   "outputs": [
    {
     "data": {
      "text/plain": [
       "-1.1111111111111112"
      ]
     },
     "execution_count": 12,
     "metadata": {},
     "output_type": "execute_result"
    }
   ],
   "source": [
    "def convert_fahrenheit(temperature_fahrenheit, target_scale):\n",
    "    if target_scale == 'Kelvin':\n",
    "        return (temperature_fahrenheit-32)*5/9+273.15\n",
    "    else:\n",
    "        return (temperature_fahrenheit-32)*5/9\n",
    "\n",
    "convert_fahrenheit(30, 'celsius')"
   ]
  },
  {
   "cell_type": "markdown",
   "id": "44c3cf71-1103-41b4-8cda-94c5bd0ec514",
   "metadata": {},
   "source": [
    "### Exercise 3 ###"
   ]
  },
  {
   "cell_type": "code",
   "execution_count": 15,
   "id": "4992045d-8f29-49ab-8c75-be955d21fc50",
   "metadata": {},
   "outputs": [
    {
     "data": {
      "text/plain": [
       "-243.14999999999998"
      ]
     },
     "execution_count": 15,
     "metadata": {},
     "output_type": "execute_result"
    }
   ],
   "source": [
    "def convert_kelvin(temperature_kelvin, target_scale):\n",
    "    if target_scale == 'Celsius':\n",
    "        return temperature_kelvin-273.15\n",
    "    else:\n",
    "        return temperature_kelvin-273.15*9/5+32\n",
    "\n",
    "convert_kelvin(30, 'Celsius')"
   ]
  },
  {
   "cell_type": "code",
   "execution_count": 16,
   "id": "6011a6ee-abb1-40b5-93db-79e6120abb39",
   "metadata": {},
   "outputs": [
    {
     "data": {
      "text/plain": [
       "-243.14999999999998"
      ]
     },
     "execution_count": 16,
     "metadata": {},
     "output_type": "execute_result"
    }
   ],
   "source": [
    "def convert_temperature(temperature, source_scale, target_scale):\n",
    "    if source_scale == 'Celsius':\n",
    "        return convert_celsius(temperature, target_scale)\n",
    "    if source_scale == 'Fahrenheit':\n",
    "        return convert_fahrenheit(temperature, target_scale) \n",
    "    if source_scale == 'Kelvin':\n",
    "        return convert_kelvin(temperature, target_scale)\n",
    "\n",
    "convert_temperature(30, 'Kelvin', 'Celsius')"
   ]
  }
 ],
 "metadata": {
  "kernelspec": {
   "display_name": "Python 3 (ipykernel)",
   "language": "python",
   "name": "python3"
  },
  "language_info": {
   "codemirror_mode": {
    "name": "ipython",
    "version": 3
   },
   "file_extension": ".py",
   "mimetype": "text/x-python",
   "name": "python",
   "nbconvert_exporter": "python",
   "pygments_lexer": "ipython3",
   "version": "3.9.19"
  },
  "toc": {
   "base_numbering": 1,
   "nav_menu": {},
   "number_sections": true,
   "sideBar": true,
   "skip_h1_title": false,
   "title_cell": "Table of Contents",
   "title_sidebar": "Contents",
   "toc_cell": false,
   "toc_position": {},
   "toc_section_display": true,
   "toc_window_display": false
  },
  "vscode": {
   "interpreter": {
    "hash": "31f2aee4e71d21fbe5cf8b01ff0e069b9275f58929596ceb00d14d90e3e16cd6"
   }
  }
 },
 "nbformat": 4,
 "nbformat_minor": 5
}
