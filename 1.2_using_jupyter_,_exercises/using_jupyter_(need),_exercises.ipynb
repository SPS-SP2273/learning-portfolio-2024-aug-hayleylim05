{
 "cells": [
  {
   "attachments": {},
   "cell_type": "markdown",
   "id": "123456",
   "metadata": {},
   "source": [
    "<div style=\"text-align:left;font-size:2em\"><span style=\"font-weight:bolder;font-size:1.25em\">SP2273 | Learning Portfolio</span><br><br><span style=\"font-weight:bold;color:darkred\">Using Jupyter (Need), Exercises</span></div>"
   ]
  },
  {
   "attachments": {},
   "cell_type": "markdown",
   "id": "83803375",
   "metadata": {},
   "source": [
    "## 1 Quadratic Equations"
   ]
  },
  {
   "attachments": {},
   "cell_type": "markdown",
   "id": "0d495c87",
   "metadata": {},
   "source": [
    "### Introduction"
   ]
  },
  {
   "cell_type": "markdown",
   "id": "49a2ca62-615a-42e8-a623-4c5ee2649f53",
   "metadata": {},
   "source": [
    "![](https://upload.wikimedia.org/wikipedia/commons/thumb/f/f8/Polynomialdeg2.svg/600px-Polynomialdeg2.svg.png)\n",
    "\n",
    "*Image from the [Wikipedia page on Quadratic equations](https://en.wikipedia.org/wiki/Quadratic_equation))*\n",
    "\n",
    "The general form of a quadratic equation is:\n",
    "$$\n",
    "ax^{2} + bx + c = 0\n",
    "$$\n"
   ]
  },
  {
   "attachments": {},
   "cell_type": "markdown",
   "id": "b269d8e5",
   "metadata": {},
   "source": [
    "### Solutions"
   ]
  },
  {
   "cell_type": "markdown",
   "id": "c89caca7-5dc7-47a3-9c9e-47747c41b94b",
   "metadata": {},
   "source": [
    "Provided $a \\ne 0$, we can use an elementary algebraic method called [completing the square](https://en.wikipedia.org/wiki/Completing_the_square) to show that a quadratic equation has the following solution:\n",
    "$$\n",
    "x = \\dfrac{-b \\pm \\sqrt{b^2-4ac}}{2a}\n",
    "$$\n"
   ]
  },
  {
   "attachments": {},
   "cell_type": "markdown",
   "id": "de1e5911",
   "metadata": {},
   "source": [
    "### Discriminant"
   ]
  },
  {
   "cell_type": "markdown",
   "id": "52d3f82e-bbfe-4967-b5b9-80c256833704",
   "metadata": {},
   "source": [
    "The quantity $\\Delta = b^{2} - 4ac$ is called the *discriminant* of the equation and decides the nature of its solutions. The table below shows the various possibilities.\n",
    "\n",
    "|  **Discriminant**          |  **Roots**                           |\n",
    "|:--- | ---: |\n",
    "|$\\Delta = b^{2} - 4ac = 0$  | A single solution of $-b/(2a)$      |\n",
    "|$\\Delta = b^{2} - 4ac > 0$  | Two distinct solutions              |\n",
    "|$\\Delta = b^{2} - 4ac < 0$  | No real solutions ; both are complex|\n",
    "\n",
    "\n"
   ]
  },
  {
   "cell_type": "markdown",
   "id": "c2a1a05a-c766-461a-a1ca-416cbd489956",
   "metadata": {},
   "source": [
    "## Exercise 2 ##"
   ]
  },
  {
   "cell_type": "markdown",
   "id": "386b454c-bb7b-4a40-a09d-7d66be86b624",
   "metadata": {},
   "source": [
    "1. A Git repository a folder where we can store our all code in and also a place where others can find our code to collaborate on it. \n",
    "2. Git keeps track of changes in the files in our repository\n",
    "3. A commit is a \"comment\" made about what are the specific changes to a file\n",
    "4. A push is the sharing of our files into the cloud (Github) from our own device\n",
    "5. A pull is the saving of changes from Github onto our own decide\n",
    "6. Github Desktop is an application that allow us to edit projects hosted on Github on our own device   \n"
   ]
  },
  {
   "cell_type": "markdown",
   "id": "a60cee64-4b2e-46f3-85c4-695b866105c5",
   "metadata": {},
   "source": [
    "## Exercise 3 ##"
   ]
  },
  {
   "cell_type": "markdown",
   "id": "1f440ec6-8d58-479d-ba02-fe88b3fbe091",
   "metadata": {},
   "source": [
    "$$\n",
    "\\mu = \\dfrac{1}{n} \\sum^{n}_{i=1} x_{i}\n",
    "$$\n",
    "$$\n",
    "\\sigma = \\sqrt{\\dfrac{1}{n} \\sum^{n}_{i=1} (x_{i} - \\mu )^{2}}\n",
    "$$ \n",
    "$$\n",
    "r = \\dfrac{\\sum^{n}_{i=1} (x_{i} - \\mu x)(y_{i} - \\mu_{Y})}{\\sqrt{\\sum^{n}_{i=1}(x_{i} - \\mu x)^{2} \\sum^{n}_{i=1} (y_{i} - \\mu_{Y})^{2}}}\n",
    "$$\n"
   ]
  },
  {
   "cell_type": "code",
   "execution_count": null,
   "id": "27c87807-a58f-4a4e-9f2d-c8736438209a",
   "metadata": {},
   "outputs": [],
   "source": []
  }
 ],
 "metadata": {
  "kernelspec": {
   "display_name": "Python 3 (ipykernel)",
   "language": "python",
   "name": "python3"
  },
  "language_info": {
   "codemirror_mode": {
    "name": "ipython",
    "version": 3
   },
   "file_extension": ".py",
   "mimetype": "text/x-python",
   "name": "python",
   "nbconvert_exporter": "python",
   "pygments_lexer": "ipython3",
   "version": "3.9.19"
  },
  "toc": {
   "base_numbering": 1,
   "nav_menu": {},
   "number_sections": true,
   "sideBar": true,
   "skip_h1_title": false,
   "title_cell": "Table of Contents",
   "title_sidebar": "Contents",
   "toc_cell": false,
   "toc_position": {},
   "toc_section_display": true,
   "toc_window_display": false
  },
  "vscode": {
   "interpreter": {
    "hash": "31f2aee4e71d21fbe5cf8b01ff0e069b9275f58929596ceb00d14d90e3e16cd6"
   }
  }
 },
 "nbformat": 4,
 "nbformat_minor": 5
}
